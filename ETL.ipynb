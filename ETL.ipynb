{
 "cells": [
  {
   "cell_type": "markdown",
   "id": "bcd026c7-ada2-4519-87c9-a685b11ea47b",
   "metadata": {},
   "source": [
    "# **Extract Transform Load (ETL)**"
   ]
  },
  {
   "cell_type": "raw",
   "id": "4167f94c-21fb-4cb1-a3e4-7dfeaee99ac6",
   "metadata": {},
   "source": [
    "Import the required modules and functions"
   ]
  },
  {
   "cell_type": "code",
   "execution_count": 1,
   "id": "73232246-9551-4dc8-a088-52230e071bee",
   "metadata": {},
   "outputs": [],
   "source": [
    "import glob                         # this module helps in selecting files \n",
    "import pandas as pd                 # this module helps in processing CSV files\n",
    "import xml.etree.ElementTree as ET  # this module helps in processing XML files.\n",
    "from datetime import datetime"
   ]
  },
  {
   "cell_type": "markdown",
   "id": "901622af-8bc9-4d99-a55f-663728d6f0d6",
   "metadata": {},
   "source": [
    "## Download Files"
   ]
  },
  {
   "cell_type": "code",
   "execution_count": 4,
   "id": "347ee338-6ac9-4825-916a-54c07f4545a9",
   "metadata": {},
   "outputs": [
    {
     "name": "stdout",
     "output_type": "stream",
     "text": [
      "--2022-11-25 17:44:31--  https://cf-courses-data.s3.us.cloud-object-storage.appdomain.cloud/IBMDeveloperSkillsNetwork-PY0221EN-SkillsNetwork/labs/module%206/Lab%20-%20Extract%20Transform%20Load/data/datasource.zip\n",
      "Resolving cf-courses-data.s3.us.cloud-object-storage.appdomain.cloud (cf-courses-data.s3.us.cloud-object-storage.appdomain.cloud)... 169.63.118.104\n",
      "Connecting to cf-courses-data.s3.us.cloud-object-storage.appdomain.cloud (cf-courses-data.s3.us.cloud-object-storage.appdomain.cloud)|169.63.118.104|:443... connected.\n",
      "HTTP request sent, awaiting response... 200 OK\n",
      "Length: 4249 (4.1K) [application/zip]\n",
      "Saving to: ‘datasource.zip’\n",
      "\n",
      "datasource.zip      100%[===================>]   4.15K  --.-KB/s    in 0s      \n",
      "\n",
      "2022-11-25 17:44:31 (30.2 MB/s) - ‘datasource.zip’ saved [4249/4249]\n",
      "\n"
     ]
    }
   ],
   "source": [
    "!wget https://cf-courses-data.s3.us.cloud-object-storage.appdomain.cloud/IBMDeveloperSkillsNetwork-PY0221EN-SkillsNetwork/labs/module%206/Lab%20-%20Extract%20Transform%20Load/data/datasource.zip"
   ]
  },
  {
   "cell_type": "code",
   "execution_count": 5,
   "id": "5066c517-8801-4c57-a9e3-48ac0cc4b2a6",
   "metadata": {},
   "outputs": [
    {
     "name": "stdout",
     "output_type": "stream",
     "text": [
      "Archive:  datasource.zip\n",
      "  inflating: dealership_data/used_car_prices1.csv  \n",
      "  inflating: dealership_data/used_car_prices2.csv  \n",
      "  inflating: dealership_data/used_car_prices3.csv  \n",
      "  inflating: dealership_data/used_car_prices1.json  \n",
      "  inflating: dealership_data/used_car_prices2.json  \n",
      "  inflating: dealership_data/used_car_prices3.json  \n",
      "  inflating: dealership_data/used_car_prices1.xml  \n",
      "  inflating: dealership_data/used_car_prices2.xml  \n",
      "  inflating: dealership_data/used_car_prices3.xml  \n"
     ]
    }
   ],
   "source": [
    "!unzip datasource.zip -d dealership_data"
   ]
  },
  {
   "cell_type": "markdown",
   "id": "ba366af6-4c53-48e0-9d62-515db6947b89",
   "metadata": {},
   "source": [
    "## About the Data"
   ]
  },
  {
   "cell_type": "raw",
   "id": "549b7bb8-b884-47d0-85f7-97e5d6a8a03e",
   "metadata": {},
   "source": [
    "The file dealership_data contains CSV, JSON, and XML files for used car data which contain features named car_model, year_of_manufacture, price, and fuel."
   ]
  },
  {
   "cell_type": "markdown",
   "id": "1aa98104-f206-40f9-a111-d1fa4fdb2119",
   "metadata": {},
   "source": [
    "## Set Paths"
   ]
  },
  {
   "cell_type": "code",
   "execution_count": 7,
   "id": "4d7f37e0-4499-4d93-a52d-f8ee659d7903",
   "metadata": {},
   "outputs": [],
   "source": [
    "tmpfile    = \"dealership_temp.tmp\"               # file used to store all extracted data\n",
    "logfile    = \"dealership_logfile.txt\"            # all event logs will be stored in this file\n",
    "targetfile = \"dealership_transformed_data.csv\"   # file where transformed data is stored"
   ]
  },
  {
   "cell_type": "markdown",
   "id": "643a4346-fdbc-4bf5-8dac-9622bf5e1fee",
   "metadata": {},
   "source": [
    "## Extract"
   ]
  },
  {
   "cell_type": "markdown",
   "id": "fc740f34-f64d-4cc4-b0c3-86741af033ef",
   "metadata": {},
   "source": [
    "### CSV Extract Function"
   ]
  },
  {
   "cell_type": "code",
   "execution_count": 8,
   "id": "5d16a970-0fc5-49a6-a810-be7b48ffbf9b",
   "metadata": {},
   "outputs": [],
   "source": [
    "def extract_from_csv(file_to_process):\n",
    "    dataframe = pd.read_csv(file_to_process)\n",
    "    return dataframe"
   ]
  },
  {
   "cell_type": "markdown",
   "id": "95429f88-57e8-4368-bdcb-e3e69db81e3e",
   "metadata": {},
   "source": [
    "### JSON Extract Function"
   ]
  },
  {
   "cell_type": "code",
   "execution_count": 9,
   "id": "f396b267-b9ab-47e0-8e66-097da0627cb6",
   "metadata": {},
   "outputs": [],
   "source": [
    "def extract_from_json(file_to_process):\n",
    "    dataframe = pd.read_json(file_to_process, lines=True)\n",
    "    return dataframe"
   ]
  },
  {
   "cell_type": "markdown",
   "id": "5b70147b-a236-4f69-acd3-686073bb61c0",
   "metadata": {},
   "source": [
    "### XML Extract Function"
   ]
  },
  {
   "cell_type": "code",
   "execution_count": 25,
   "id": "f68cabe5-c4a1-42d2-9894-64ca1fdc3ea7",
   "metadata": {},
   "outputs": [],
   "source": [
    "def extract_from_xml(file_to_process):\n",
    "    dataframe= pd.DataFrame(columns=['car_model', 'year_of_manufacture', 'price', 'fuel'])\n",
    "    tree= ET.parse(file_to_process)\n",
    "    root= tree.getroot()\n",
    "    for person in root:\n",
    "        car_model= person.find('car_model').text\n",
    "        year_of_manufacture= int(person.find('year_of_manufacture').text)\n",
    "        price=  float(person.find('price').text)                        \n",
    "        fuel= person.find('fuel').text\n",
    "        dataframe= dataframe.append({'car_model': car_model, 'year_of_manufacture': year_of_manufacture, 'price': price, 'fuel': fuel}, ignore_index =True)\n",
    "    return dataframe"
   ]
  },
  {
   "cell_type": "markdown",
   "id": "7c2e83e9-87ee-41b2-8efa-fba28d9e3d62",
   "metadata": {},
   "source": [
    "### Extract Function"
   ]
  },
  {
   "cell_type": "raw",
   "id": "4d881333-8387-41e5-b6cd-130e0934cba8",
   "metadata": {},
   "source": [
    "call specific extract functions created above."
   ]
  },
  {
   "cell_type": "code",
   "execution_count": 16,
   "id": "37285fd7-a53c-4231-9ce1-55bf3b34a4e3",
   "metadata": {},
   "outputs": [],
   "source": [
    "def extract():\n",
    "    extracted_data = pd.DataFrame(columns=['car_model', 'year_of_manufacture', 'price', 'fuel'])  # create an empty data frame to hold extracted data\n",
    "    \n",
    "    # process all csv files\n",
    "    for csvfile in glob.glob('dealership_data/*.csv'):\n",
    "        extracted_data= extracted_data.append(extract_from_csv(csvfile), ignore_index=True)\n",
    "                             \n",
    "    # process all json files\n",
    "    for jsonfile in glob.glob('dealership_data/*.json'):\n",
    "        extracted_data= extracted_data.append(extract_from_json(jsonfile), ignore_index=True)\n",
    "    \n",
    "    # process all xml files\n",
    "    for xmlfile in glob.glob('dealership_data/*.xml'):\n",
    "        extracted_data= extracted_data.append(extract_from_xml(xmlfile), ignore_index=True)\n",
    "                             \n",
    "    return extracted_data    "
   ]
  },
  {
   "cell_type": "markdown",
   "id": "fd59a190-9a3f-4f88-b872-d2f2a1191eb5",
   "metadata": {},
   "source": [
    "## Transform "
   ]
  },
  {
   "cell_type": "raw",
   "id": "7d8fd573-2879-4b26-919b-f6cd8e770781",
   "metadata": {},
   "source": [
    "Round the price columns to 2 decimal places"
   ]
  },
  {
   "cell_type": "code",
   "execution_count": 30,
   "id": "f1f8eae4-61fe-4fb0-a01c-cc2dc534518b",
   "metadata": {},
   "outputs": [],
   "source": [
    "# transform function\n",
    "def transform(data):\n",
    "    # round the price columns to 2 decimal places\n",
    "    data['price']= round(data.price, 2) \n",
    "    return data"
   ]
  },
  {
   "cell_type": "markdown",
   "id": "c42cb6d6-244a-4c04-b970-6b1ea4304efd",
   "metadata": {},
   "source": [
    "## Loading"
   ]
  },
  {
   "cell_type": "code",
   "execution_count": 19,
   "id": "dedd402f-1731-4b6e-a3d8-6c1c8031de11",
   "metadata": {},
   "outputs": [],
   "source": [
    "# load function\n",
    "def load(targetfile, data_to_load):\n",
    "    data_to_load.to_csv(targetfile)"
   ]
  },
  {
   "cell_type": "markdown",
   "id": "d27518e7-5344-43bf-bea4-8500b49d823e",
   "metadata": {},
   "source": [
    "## Logging"
   ]
  },
  {
   "cell_type": "code",
   "execution_count": 20,
   "id": "731a1827-f0dd-4879-b8bd-3e65bf341880",
   "metadata": {},
   "outputs": [],
   "source": [
    "def log(message):\n",
    "    timestamp_format = '%H:%M:%S-%h-%d-%Y' #Hour-Minute-Second-MonthName-Day-Year\n",
    "    now = datetime.now() # get current timestamp\n",
    "    timestamp = now.strftime(timestamp_format)\n",
    "    with open(\"dealership_logfile.txt\",\"a\") as f:\n",
    "        f.write(timestamp + ',' + message + '\\n') "
   ]
  },
  {
   "cell_type": "markdown",
   "id": "fcdc6fe2-f033-4b8c-92b1-d5fac8a9f2c2",
   "metadata": {},
   "source": [
    "## Running ETL Process"
   ]
  },
  {
   "cell_type": "code",
   "execution_count": 22,
   "id": "64592eac-ca27-4af2-97d8-c6e2234ae7bb",
   "metadata": {},
   "outputs": [],
   "source": [
    "# Log started the ETL process\n",
    "log('etl process started')"
   ]
  },
  {
   "cell_type": "code",
   "execution_count": 23,
   "id": "94252d66-0a16-451c-b525-c2be8a98de7c",
   "metadata": {},
   "outputs": [],
   "source": [
    "# Log started the Extract step\n",
    "log('extract process started')"
   ]
  },
  {
   "cell_type": "code",
   "execution_count": 26,
   "id": "629d9b19-9578-4a0d-a0af-ca1d3ddcd64f",
   "metadata": {},
   "outputs": [],
   "source": [
    "# Call the Extract function\n",
    "extracted_data = extract()"
   ]
  },
  {
   "cell_type": "code",
   "execution_count": 27,
   "id": "1d537944-c09b-4329-aca0-4fd330cd6f72",
   "metadata": {},
   "outputs": [],
   "source": [
    "# Log completion of  the Extract step\n",
    "log('extraction completed')"
   ]
  },
  {
   "cell_type": "code",
   "execution_count": 28,
   "id": "aac9581a-afaa-4bf1-9bde-90d40e99813f",
   "metadata": {},
   "outputs": [],
   "source": [
    "# Log start of Transform step\n",
    "log('started transform step')"
   ]
  },
  {
   "cell_type": "code",
   "execution_count": 32,
   "id": "103191e5-1e43-4fa7-a35c-a11c83033581",
   "metadata": {},
   "outputs": [],
   "source": [
    "# Call the Transform function\n",
    "transformed_data= transform(extracted_data)"
   ]
  },
  {
   "cell_type": "code",
   "execution_count": 33,
   "id": "3004a13f-bf0e-4639-95c0-92423862e3d5",
   "metadata": {},
   "outputs": [],
   "source": [
    "# Log completion of Transform step\n",
    "log('transformaton step completed')"
   ]
  },
  {
   "cell_type": "code",
   "execution_count": 34,
   "id": "e2d80f1f-a0d1-4bc8-b24e-20828955fec6",
   "metadata": {},
   "outputs": [],
   "source": [
    "# Log start of the Load step\n",
    "log('start of load step')"
   ]
  },
  {
   "cell_type": "code",
   "execution_count": 35,
   "id": "86c8f349-42bb-4cca-a35c-c2223c8333c1",
   "metadata": {},
   "outputs": [],
   "source": [
    "# Call the Load function\n",
    "load(targetfile, transformed_data)"
   ]
  },
  {
   "cell_type": "code",
   "execution_count": 36,
   "id": "586ac219-1511-4995-9f13-91fcf3f93961",
   "metadata": {},
   "outputs": [],
   "source": [
    "# Log completed the Load step\n",
    "log(\"Load phase Ended\")"
   ]
  },
  {
   "cell_type": "code",
   "execution_count": 37,
   "id": "8cf57d6c-5c00-468a-89e8-11230d139a0c",
   "metadata": {},
   "outputs": [],
   "source": [
    "# Log completion of the ETL process\n",
    "log(\"ETL Job Ended\")"
   ]
  },
  {
   "cell_type": "code",
   "execution_count": null,
   "id": "8973d1a7-17ad-4174-b1a4-a1e30fa5a44f",
   "metadata": {},
   "outputs": [],
   "source": []
  }
 ],
 "metadata": {
  "kernelspec": {
   "display_name": "Python",
   "language": "python",
   "name": "conda-env-python-py"
  },
  "language_info": {
   "codemirror_mode": {
    "name": "ipython",
    "version": 3
   },
   "file_extension": ".py",
   "mimetype": "text/x-python",
   "name": "python",
   "nbconvert_exporter": "python",
   "pygments_lexer": "ipython3",
   "version": "3.7.12"
  }
 },
 "nbformat": 4,
 "nbformat_minor": 5
}
